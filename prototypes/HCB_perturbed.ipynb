{
 "cells": [
  {
   "attachments": {},
   "cell_type": "markdown",
   "metadata": {},
   "source": [
    "## Minimalist Example for HCB Domain Decomposition Method (fixed interface)\n",
    "\n",
    "This prototype is meant to illustrate the steps of Hurty / Craig - Bampton domain decomposition procedure. Consider a system with the following mass & stiffness matrices and load vector:  \n",
    "\n",
    "\\begin{equation*}\n",
    "    \\mathbf{M} \n",
    "    =\n",
    "    \\begin{bmatrix} \n",
    "        1 & 0 & 0 & 0 & 0 & 0 \\\\\n",
    "        0 & 2 & 0 & 0 & 0 & 0 \\\\\n",
    "        0 & 0 & 2 & 0 & 0 & 0 \\\\\n",
    "        0 & 0 & 0 & 2 & 0 & 0 \\\\\n",
    "        0 & 0 & 0 & 0 & 2 & 0 \\\\\n",
    "        0 & 0 & 0 & 0 & 0 & 1\n",
    "    \\end{bmatrix} \n",
    "    \\phantom{xx} \n",
    "    \\text{;} \n",
    "    \\phantom{xx}\n",
    "    \\mathbf{K} \n",
    "    =\n",
    "    \\begin{bmatrix} \n",
    "        1 & -1 & 0 & 0 & 0 & 0 \\\\\n",
    "        -1 & 2 & -1 & 0 & 0 & 0 \\\\\n",
    "        0 & -1 & 2 & -1 & 0 & 0 \\\\\n",
    "        0 & 0 & -1 & 2 & -1 & 0 \\\\\n",
    "        0 & 0 & 0 & -1 & 2 & -1 \\\\\n",
    "        0 & 0 & 0 & 0 & -1 & 1\n",
    "    \\end{bmatrix} \n",
    "    \\phantom{xx} \n",
    "    \\text{;} \n",
    "    \\phantom{xx}\n",
    "    \\mathbf{F}\n",
    "    =\n",
    "    \\begin{bmatrix}\n",
    "    1 \\\\ 1 \\\\ 1 \\\\ 1 \\\\ 1 \\\\ 1\n",
    "    \\end{bmatrix}\n",
    "\\end{equation*}\n",
    "\n",
    "The system is decomposed into two parts; first part contains nodes $1$, $2$, and $3$ while the second part contains nodes $3$, $4$, $5$, and $6$. In other words, node $3$ is the boundary node. In addition, a dirichlet boundary condition is applied to node $6$ i.e. $u_{6}=0$"
   ]
  },
  {
   "attachments": {},
   "cell_type": "markdown",
   "metadata": {},
   "source": [
    "### Load"
   ]
  },
  {
   "cell_type": "code",
   "execution_count": 10,
   "metadata": {},
   "outputs": [],
   "source": [
    "import numpy as np \n",
    "from scipy.linalg import sqrtm \n",
    "\n",
    "omega = 2.0"
   ]
  },
  {
   "attachments": {},
   "cell_type": "markdown",
   "metadata": {},
   "source": [
    "### Substructure 1 \n",
    "\n",
    "The following computations are performed on computer 1 and are completely independent of substructure 2. Therefore the computation for substructure 2 can be performed in parallel. "
   ]
  },
  {
   "cell_type": "code",
   "execution_count": 11,
   "metadata": {},
   "outputs": [],
   "source": [
    "M_1 = np.array([[ 1, 0, 0],\n",
    "                [ 0, 2, 0],\n",
    "                [ 0, 0, 1]]) \n",
    "\n",
    "K_1 = np.array([[ 1,-1, 0],\n",
    "                [-1, 2,-1],\n",
    "                [ 0,-1, 1]])\n",
    "\n",
    "f_1 = np.array([[1],\n",
    "                [1],\n",
    "                [1]])\n",
    "\n",
    "# compute internal mode from eigenproblem with boundary node (node 3) fixed \n",
    "\n",
    "M_II_1 = M_1[0:2,0:2]\n",
    "K_II_1 = K_1[0:2,0:2]\n",
    "\n",
    "_, Phi_N_1 = np.linalg.eig( np.linalg.solve( M_II_1, K_II_1 ) )\n",
    "\n",
    "# use mass - normalised eigenmodes \n",
    "\n",
    "Phi_N_1 = np.linalg.solve( sqrtm( (np.transpose(Phi_N_1) @ M_II_1 @ Phi_N_1)  ), Phi_N_1 ) \n",
    "\n",
    "# compute boundary mode\n",
    "\n",
    "K_IB_1 = K_1[0:2,2]\n",
    "\n",
    "Phi_C_1 = - np.reshape( np.linalg.solve( K_II_1, K_IB_1 ), (2,1) )\n",
    "\n",
    "# compute transformation matrix \n",
    "\n",
    "I = np.eye( Phi_C_1.shape[1] )\n",
    "O = np.zeros( (I.shape[0], Phi_N_1.shape[1]) )\n",
    "\n",
    "G_1 = np.vstack(( np.hstack( (Phi_N_1, Phi_C_1) ),\n",
    "                  np.hstack( (      O,       I) )))\n",
    "\n",
    "# compute modal system of equations\n",
    "\n",
    "K_1 = 1.2 * K_1 \n",
    "\n",
    "D_1 = np.transpose(G_1) @ ( K_1 - omega * omega * M_1 ) @ G_1\n",
    "\n",
    "# compute Schur complement matrix \n",
    "\n",
    "D_NN_1 = D_1[0:2,0:2] \n",
    "D_NC_1 = D_1[0:2,2] \n",
    "D_CN_1 = D_1[2,0:2] \n",
    "D_CC_1 = D_1[2,2]\n",
    "\n",
    "S_1 =  D_CC_1 - D_CN_1 @ np.linalg.solve( D_NN_1, D_NC_1 ) \n",
    "\n",
    "# compute load vector \n",
    "\n",
    "F_1 = np.transpose(G_1) @ f_1\n",
    "\n",
    "F_N_1 = F_1[0:2,0] \n",
    "F_C_1 = F_1[2,0] \n",
    "\n",
    "P_1 = F_C_1 - D_CN_1 @ np.linalg.solve( D_NN_1, F_N_1 ) "
   ]
  },
  {
   "attachments": {},
   "cell_type": "markdown",
   "metadata": {},
   "source": [
    "### Substructure 2\n",
    "\n",
    "The following computations are performed on computer 2 and are completely independent of substructure 1. Therefore the computation for substructure 1 can be performed in parallel. "
   ]
  },
  {
   "cell_type": "code",
   "execution_count": 12,
   "metadata": {},
   "outputs": [],
   "source": [
    "M_2 = np.array([[ 2, 0, 0, 0],\n",
    "                [ 0, 2, 0, 0],\n",
    "                [ 0, 0, 1, 0],\n",
    "                [ 0, 0, 0, 1]]) \n",
    "\n",
    "K_2 = np.array([[ 2,-1, 0,-1],\n",
    "                [-1, 2, 0, 0],\n",
    "                [ 0, 0, 1, 0],\n",
    "                [-1, 0, 0, 1]])\n",
    "\n",
    "f_2 = np.array([[1],\n",
    "                [1],\n",
    "                [0],\n",
    "                [0]])\n",
    "\n",
    "# compute internal mode from eigenproblem with boundary node and clamped node (node 3 and 6) fixed \n",
    "\n",
    "M_II_2 = M_2[0:3,0:3]\n",
    "K_II_2 = K_2[0:3,0:3]\n",
    "\n",
    "\n",
    "_, Phi_N_2 = np.linalg.eig( np.linalg.solve( M_II_2, K_II_2 ) )\n",
    "\n",
    "# use mass - normalised eigenmodes \n",
    "\n",
    "Phi_N_2 = np.linalg.solve( sqrtm( (np.transpose(Phi_N_2) @ M_II_2 @ Phi_N_2) ), Phi_N_2 ) \n",
    "\n",
    "# compute boundary mode\n",
    "\n",
    "K_IB_2 = K_2[0:3,3]\n",
    "\n",
    "Phi_C_2 = - np.reshape( np.linalg.solve( K_II_2, K_IB_2 ), (3,1) )\n",
    "\n",
    "# # compute transformation matrix \n",
    "\n",
    "I = np.eye( Phi_C_2.shape[1] )\n",
    "O = np.zeros( (I.shape[0], Phi_N_2.shape[1]) )\n",
    "\n",
    "G_2 = np.vstack(( np.hstack( (Phi_N_2, Phi_C_2) ),\n",
    "                  np.hstack( (      O,       I) )))\n",
    "\n",
    "# # compute modal system of equations \n",
    "\n",
    "K_2 = np.array([[ 2.4,-1.2, 0.0,-1.2],\n",
    "                [-1.2, 2.4, 0.0, 0.0],\n",
    "                [ 0.0, 0.0, 1.0, 0.0],\n",
    "                [-1.2, 0.0, 0.0, 1.2]])\n",
    "\n",
    "D_2 = np.transpose(G_2) @ ( K_2 - omega * omega * M_2 ) @ G_2\n",
    "\n",
    "# # compute Schur complement matrix \n",
    "\n",
    "D_NN_2 = D_2[0:3,0:3] \n",
    "D_NC_2 = D_2[0:3,3] \n",
    "D_CN_2 = D_2[3,0:3] \n",
    "D_CC_2 = D_2[3,3]\n",
    "\n",
    "S_2 =  D_CC_2 - D_CN_2 @ np.linalg.solve( D_NN_2, D_NC_2 ) \n",
    "\n",
    "# # compute load vector \n",
    "\n",
    "F_2 = np.transpose(G_2) @ f_2\n",
    "\n",
    "F_N_2 = F_2[0:3,0] \n",
    "F_C_2 = F_2[3,0] \n",
    "\n",
    "P_2 = F_C_2 - D_CN_2 @ np.linalg.solve( D_NN_2, F_N_2 ) "
   ]
  },
  {
   "attachments": {},
   "cell_type": "markdown",
   "metadata": {},
   "source": [
    "### Solve for Boundary Freedoms\n",
    "\n",
    "After Schur complement matrices and modified load vectors are computed, either computer 2 send the matrix and vector to computer 1 or vice versa to solve for boundary freedoms.  "
   ]
  },
  {
   "cell_type": "code",
   "execution_count": 19,
   "metadata": {},
   "outputs": [],
   "source": [
    "u_C = (P_1+P_2) / (S_1+S_2)  "
   ]
  },
  {
   "attachments": {},
   "cell_type": "markdown",
   "metadata": {},
   "source": [
    "### Solve for internal mode 1\n",
    "\n",
    "If boundary freedoms are computed in computer 2, the results need to be sent to computer 1 first. The following computation is independent of substructure 2. Therefore, computation in substructure 2 can be performed in parallel. "
   ]
  },
  {
   "cell_type": "code",
   "execution_count": 14,
   "metadata": {},
   "outputs": [],
   "source": [
    "u_N_1 = np.linalg.solve( D_NN_1, (F_N_1 - u_C * D_NC_1) )\n",
    "u_1 = np.reshape( Phi_N_1 @ u_N_1, (2,1) ) + np.reshape( u_C * Phi_C_1, (2,1) )"
   ]
  },
  {
   "attachments": {},
   "cell_type": "markdown",
   "metadata": {},
   "source": [
    "### Solve for internal mode 2\n",
    "\n",
    "If boundary freedoms are computed in computer 1, the results need to be sent to computer 2. The following computation is independent of substructure 1. Therefore, computation in substructure 1 can be performed in parallel. "
   ]
  },
  {
   "cell_type": "code",
   "execution_count": 15,
   "metadata": {},
   "outputs": [],
   "source": [
    "u_N_2 = np.linalg.solve( D_NN_2, (F_N_2 - u_C * D_NC_2) )\n",
    "u_2 = np.reshape( Phi_N_2 @ u_N_2, (3,1) ) + np.reshape( u_C * Phi_C_2, (3,1) )"
   ]
  },
  {
   "attachments": {},
   "cell_type": "markdown",
   "metadata": {},
   "source": [
    "### Gather Solution\n",
    "\n",
    "In the final step solutions from all computers are gathered to form the complete solution. "
   ]
  },
  {
   "cell_type": "code",
   "execution_count": 16,
   "metadata": {},
   "outputs": [
    {
     "name": "stdout",
     "output_type": "stream",
     "text": [
      "[[-0.32278686]\n",
      " [-0.08016399]\n",
      " [-0.13644783]\n",
      " [-0.11641279]\n",
      " [-0.15362583]\n",
      " [ 0.        ]]\n"
     ]
    }
   ],
   "source": [
    "u_HCB = np.vstack((np.vstack ((u_1,u_C)),u_2))\n",
    "print(u_HCB)"
   ]
  },
  {
   "attachments": {},
   "cell_type": "markdown",
   "metadata": {},
   "source": [
    "### Compare with Full Solution\n",
    "\n",
    "The results from HCB domain decomposition are compared with results from solving the full system. Since no mode truncation has been done, the results from both methods should be equal."
   ]
  },
  {
   "cell_type": "code",
   "execution_count": 18,
   "metadata": {},
   "outputs": [
    {
     "name": "stdout",
     "output_type": "stream",
     "text": [
      "[[-0.32278686]\n",
      " [-0.08016399]\n",
      " [-0.13644783]\n",
      " [-0.11641279]\n",
      " [-0.15362583]\n",
      " [-0.        ]]\n"
     ]
    }
   ],
   "source": [
    "M = np.array([[ 1, 0, 0, 0, 0, 0],\n",
    "              [ 0, 2, 0, 0, 0, 0],\n",
    "              [ 0, 0, 2, 0, 0, 0],\n",
    "              [ 0, 0, 0, 2, 0, 0],\n",
    "              [ 0, 0, 0, 0, 2, 0],\n",
    "              [ 0, 0, 0, 0, 0, 1]])\n",
    "\n",
    "K = np.array([[ 1.2,-1.2, 0.0, 0.0, 0.0, 0.0],\n",
    "              [-1.2, 2.4,-1.2, 0.0, 0.0, 0.0],\n",
    "              [ 0.0,-1.2, 2.4,-1.2, 0.0, 0.0],\n",
    "              [ 0.0, 0.0,-1.2, 2.4,-1.2, 0.0],\n",
    "              [ 0.0, 0.0, 0.0,-1.2, 2.4, 0.0],\n",
    "              [ 0.0, 0.0, 0.0, 0.0, 0.0, 1.0]])\n",
    "\n",
    "F = np.array([[1],\n",
    "              [1],\n",
    "              [1],\n",
    "              [1],\n",
    "              [1],\n",
    "              [0]])\n",
    "\n",
    "u_F = np.linalg.solve( (K - omega * omega * M), F)\n",
    "\n",
    "print(u_F)"
   ]
  }
 ],
 "metadata": {
  "kernelspec": {
   "display_name": "Python 3",
   "language": "python",
   "name": "python3"
  },
  "language_info": {
   "codemirror_mode": {
    "name": "ipython",
    "version": 3
   },
   "file_extension": ".py",
   "mimetype": "text/x-python",
   "name": "python",
   "nbconvert_exporter": "python",
   "pygments_lexer": "ipython3",
   "version": "3.11.3"
  },
  "orig_nbformat": 4
 },
 "nbformat": 4,
 "nbformat_minor": 2
}
