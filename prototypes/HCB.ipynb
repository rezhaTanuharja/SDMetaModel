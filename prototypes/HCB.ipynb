{
 "cells": [
  {
   "attachments": {},
   "cell_type": "markdown",
   "metadata": {},
   "source": [
    "# HCB Method (fixed interface)\n",
    "\n",
    "This prototype includes: \n",
    "- Domain Decomposition (substructuring) \n",
    "\n",
    "This prototype excludes: \n",
    "- Model order reduction\n",
    "- Randomness of the system \n",
    "- Generalisation for more than two substructures\n",
    "\n",
    "As illustration, consider a simple longitudinal beam modelled as 5 elements FE model with the following mass and stiffness matrices: \n",
    "\n",
    "\\begin{equation*}\n",
    "    \\mathbf{M} \n",
    "    =\n",
    "    \\frac{1}{5}\n",
    "    \\cdot \n",
    "    \\begin{bmatrix} \n",
    "        1 & 0 & 0 & 0 & 0 & 0 \\\\\n",
    "        0 & 2 & 0 & 0 & 0 & 0 \\\\\n",
    "        0 & 0 & 2 & 0 & 0 & 0 \\\\\n",
    "        0 & 0 & 0 & 2 & 0 & 0 \\\\\n",
    "        0 & 0 & 0 & 0 & 2 & 0 \\\\\n",
    "        0 & 0 & 0 & 0 & 0 & 1\n",
    "    \\end{bmatrix} \n",
    "    \\phantom{xx} \n",
    "    \\text{;} \n",
    "    \\phantom{xx}\n",
    "    \\mathbf{K} \n",
    "    =\n",
    "    500\\cdot \n",
    "    \\begin{bmatrix} \n",
    "        1 & -1 & 0 & 0 & 0 & 0 \\\\\n",
    "        -1 & 2 & -1 & 0 & 0 & 0 \\\\\n",
    "        0 & -1 & 2 & -1 & 0 & 0 \\\\\n",
    "        0 & 0 & -1 & 2 & -1 & 0 \\\\\n",
    "        0 & 0 & 0 & -1 & 2 & -1 \\\\\n",
    "        0 & 0 & 0 & 0 & -1 & 1\n",
    "    \\end{bmatrix} \n",
    "\\end{equation*} \n",
    "\n",
    "For simplicity, we only consider the following uniform nodal load: \n",
    "\n",
    "\\begin{equation*}\n",
    "    \\mathbf{f}\n",
    "    =\n",
    "    \\frac{1}{5}\\cdot \n",
    "    \\begin{bmatrix}\n",
    "    1 & 1 & 1 & 1 & 1 & 1\n",
    "    \\end{bmatrix}^{T}\n",
    "\\end{equation*}\n",
    "\n",
    "The model is divided into two substructures: \n",
    "- Node $1$, $2$, $3$\n",
    "- Node $3$, $4$, $5$, $6$ \n",
    "\n",
    "Here, node $3$ acts as the boundary node. In addition, a homogenous dirichlet boundary condition is applied to node $6$ i.e. $u_{6}=0$. "
   ]
  },
  {
   "attachments": {},
   "cell_type": "markdown",
   "metadata": {},
   "source": [
    "### Preamble"
   ]
  },
  {
   "cell_type": "code",
   "execution_count": 47,
   "metadata": {},
   "outputs": [],
   "source": [
    "import numpy as np \n",
    "from scipy.linalg import sqrtm \n",
    "import matplotlib.pyplot as plt \n",
    "\n",
    "omega = 30.0"
   ]
  },
  {
   "attachments": {},
   "cell_type": "markdown",
   "metadata": {},
   "source": [
    "## Compute Matrices of Each Substructure\n",
    "\n",
    "Matrices and vectors of each substructure are computed independently and in parallel "
   ]
  },
  {
   "attachments": {},
   "cell_type": "markdown",
   "metadata": {},
   "source": [
    "### Substructure 1 \n",
    "\n",
    "The following computations are performed independently on computer 1"
   ]
  },
  {
   "cell_type": "code",
   "execution_count": 48,
   "metadata": {},
   "outputs": [],
   "source": [
    "# Assemble mass & stiffness matrices and load vector \n",
    "\n",
    "M_1 = 0.2 * np.array([[ 1, 0, 0],\n",
    "                      [ 0, 2, 0],\n",
    "                      [ 0, 0, 1]]) \n",
    "\n",
    "K_1 = 500 * np.array([[ 1,-1, 0],\n",
    "                      [-1, 2,-1],\n",
    "                      [ 0,-1, 1]])\n",
    "\n",
    "f_1 = 0.2 * np.array([[1],\n",
    "                      [1],\n",
    "                      [1]])\n",
    "\n",
    "# Compute internal mode with boundary node (node 3) fixed \n",
    "\n",
    "M_II_1 = M_1[0:2,0:2]\n",
    "K_II_1 = K_1[0:2,0:2]\n",
    "\n",
    "_, Phi_N_1 = np.linalg.eig( np.linalg.solve( M_II_1, K_II_1 ) )\n",
    "\n",
    "# Use mass - normalised eigenmodes \n",
    "\n",
    "Phi_N_1 = np.linalg.solve( \n",
    "    sqrtm( (np.transpose(Phi_N_1) @ M_II_1 @ Phi_N_1)  ), Phi_N_1 \n",
    ") \n",
    "\n",
    "# Compute boundary mode\n",
    "\n",
    "K_IB_1 = K_1[0:2,2]\n",
    "\n",
    "Phi_C_1 = - np.reshape( np.linalg.solve( K_II_1, K_IB_1 ), (2,1) )\n",
    "\n",
    "# Compute transformation matrix \n",
    "\n",
    "I = np.eye( Phi_C_1.shape[1] )\n",
    "O = np.zeros( (I.shape[0], Phi_N_1.shape[1]) )\n",
    "\n",
    "G_1 = np.vstack(( np.hstack( (Phi_N_1, Phi_C_1) ),\n",
    "                  np.hstack( (      O,       I) )))\n",
    "\n",
    "# Compute modal system of equations \n",
    "\n",
    "D_1 = np.transpose(G_1) @ ( K_1 - omega * omega * M_1 ) @ G_1\n",
    "\n",
    "# Compute Schur complement matrix \n",
    "\n",
    "D_NN_1 = D_1[0:2,0:2] \n",
    "D_NC_1 = D_1[0:2,2] \n",
    "D_CN_1 = D_1[2,0:2] \n",
    "D_CC_1 = D_1[2,2]\n",
    "\n",
    "S_1 =  D_CC_1 - D_CN_1 @ np.linalg.solve( D_NN_1, D_NC_1 ) \n",
    "\n",
    "# Compute load vector \n",
    "\n",
    "F_1 = np.transpose(G_1) @ f_1\n",
    "\n",
    "F_N_1 = F_1[0:2,0] \n",
    "F_C_1 = F_1[2,0] \n",
    "\n",
    "P_1 = F_C_1 - D_CN_1 @ np.linalg.solve( D_NN_1, F_N_1 ) \n",
    "\n",
    "# Send S_1 and P_1 to central computer to calculate u_C i.e. u_3"
   ]
  },
  {
   "attachments": {},
   "cell_type": "markdown",
   "metadata": {},
   "source": [
    "### Substructure 2\n",
    "\n",
    "The following computations are performed independently on computer 2"
   ]
  },
  {
   "cell_type": "code",
   "execution_count": 49,
   "metadata": {},
   "outputs": [],
   "source": [
    "# Assemble mass & stiffness matrices and load vector \n",
    "\n",
    "M_2 = np.array([[ 0.4, 0.0, 0.0, 0.0],\n",
    "                [ 0.0, 0.4, 0.0, 0.0],\n",
    "                [ 0.0, 0.0, 1.0, 0.0],\n",
    "                [ 0.0, 0.0, 0.0, 0.2]]) \n",
    "\n",
    "K_2 = np.array([[1000,-500, 0,-500],\n",
    "                [-500,1000, 0,   0],\n",
    "                [   0,   0, 1,   0],\n",
    "                [-500,   0, 0, 500]])\n",
    "\n",
    "f_2 = np.array([[0.2],\n",
    "                [0.2],\n",
    "                [0.0],\n",
    "                [0.0]])\n",
    "\n",
    "# Compute internal mode with boundary node and clamped node (node 3 and 6) fixed \n",
    "\n",
    "M_II_2 = M_2[0:3,0:3]\n",
    "K_II_2 = K_2[0:3,0:3]\n",
    "\n",
    "\n",
    "_, Phi_N_2 = np.linalg.eig( np.linalg.solve( M_II_2, K_II_2 ) )\n",
    "\n",
    "# Use mass - normalised eigenmodes \n",
    "\n",
    "Phi_N_2 = np.linalg.solve( \n",
    "    sqrtm( (np.transpose(Phi_N_2) @ M_II_2 @ Phi_N_2) ), Phi_N_2 \n",
    ") \n",
    "\n",
    "# Compute boundary mode\n",
    "\n",
    "K_IB_2 = K_2[0:3,3]\n",
    "\n",
    "Phi_C_2 = - np.reshape( np.linalg.solve( K_II_2, K_IB_2 ), (3,1) )\n",
    "\n",
    "# Compute transformation matrix \n",
    "\n",
    "I = np.eye( Phi_C_2.shape[1] )\n",
    "O = np.zeros( (I.shape[0], Phi_N_2.shape[1]) )\n",
    "\n",
    "G_2 = np.vstack(( np.hstack( (Phi_N_2, Phi_C_2) ),\n",
    "                  np.hstack( (      O,       I) )))\n",
    "\n",
    "# Compute modal system of equations \n",
    "\n",
    "D_2 = np.transpose(G_2) @ ( K_2 - omega * omega * M_2 ) @ G_2\n",
    "\n",
    "# Compute Schur complement matrix \n",
    "\n",
    "D_NN_2 = D_2[0:3,0:3] \n",
    "D_NC_2 = D_2[0:3,3] \n",
    "D_CN_2 = D_2[3,0:3] \n",
    "D_CC_2 = D_2[3,3]\n",
    "\n",
    "S_2 =  D_CC_2 - D_CN_2 @ np.linalg.solve( D_NN_2, D_NC_2 ) \n",
    "\n",
    "# compute load vector \n",
    "\n",
    "F_2 = np.transpose(G_2) @ f_2\n",
    "\n",
    "F_N_2 = F_2[0:3,0] \n",
    "F_C_2 = F_2[3,0] \n",
    "\n",
    "P_2 = F_C_2 - D_CN_2 @ np.linalg.solve( D_NN_2, F_N_2 ) \n",
    "\n",
    "# Send S_2 and P_2 to central computer to calculate u_C i.e. u_3"
   ]
  },
  {
   "attachments": {},
   "cell_type": "markdown",
   "metadata": {},
   "source": [
    "## Solve Boundary DoF(s) \n",
    "\n",
    "Matrices and vectors from each substructure are gathered in one central computer and boundary DoF's value is calculated"
   ]
  },
  {
   "cell_type": "code",
   "execution_count": 50,
   "metadata": {},
   "outputs": [],
   "source": [
    "# Receive S_1 & P_1 from computer 1\n",
    "# Receive S_2 & P_2 from computer 2\n",
    "\n",
    "u_C = (P_1+P_2) / (S_1+S_2)  \n",
    "\n",
    "# Send / broadcast u_C to computer 1 and 2"
   ]
  },
  {
   "attachments": {},
   "cell_type": "markdown",
   "metadata": {},
   "source": [
    "## Solve Internal DoFs \n",
    "\n",
    "Boundary DoF's value is broadcasted to all computers and internal DoFs of each substructure are calculated independently and in parallel "
   ]
  },
  {
   "attachments": {},
   "cell_type": "markdown",
   "metadata": {},
   "source": [
    "### Solve for internal mode 1\n",
    "\n",
    "The following computations are performed independently on computer 1"
   ]
  },
  {
   "cell_type": "code",
   "execution_count": 51,
   "metadata": {},
   "outputs": [],
   "source": [
    "# Receive u_C from central computer \n",
    "\n",
    "u_N_1 = np.linalg.solve( D_NN_1, (F_N_1 - u_C * D_NC_1) )\n",
    "\n",
    "# Transform from modal space to physical space \n",
    "\n",
    "u_1 = np.reshape( Phi_N_1 @ u_N_1, (2,1) ) + np.reshape( u_C * Phi_C_1, (2,1) )\n",
    "\n",
    "# Send u_1 to central computer for postprocessing (only if needed)"
   ]
  },
  {
   "attachments": {},
   "cell_type": "markdown",
   "metadata": {},
   "source": [
    "### Solve for internal mode 2\n",
    "\n",
    "The following computations are performed independently on computer 2"
   ]
  },
  {
   "cell_type": "code",
   "execution_count": 52,
   "metadata": {},
   "outputs": [],
   "source": [
    "# Receive u_C from central computer \n",
    "\n",
    "u_N_2 = np.linalg.solve( D_NN_2, (F_N_2 - u_C * D_NC_2) )\n",
    "\n",
    "# Transform from modal space to physical space \n",
    "\n",
    "u_2 = np.reshape( Phi_N_2 @ u_N_2, (3,1) ) + np.reshape( u_C * Phi_C_2, (3,1) )\n",
    "\n",
    "# Send u_2 to central computer for postprocessing (only if needed)"
   ]
  },
  {
   "attachments": {},
   "cell_type": "markdown",
   "metadata": {},
   "source": [
    "## Postprocessing \n",
    "\n",
    "This step is just to compare results obtained from the method with results from solving the full system of equations "
   ]
  },
  {
   "attachments": {},
   "cell_type": "markdown",
   "metadata": {},
   "source": [
    "### Gather Solutions\n",
    "\n",
    "The following computations are only performed on central computer if all DoF values are needed for postprocessing"
   ]
  },
  {
   "cell_type": "code",
   "execution_count": 53,
   "metadata": {},
   "outputs": [],
   "source": [
    "# Receive u_1 from computer 1 (only if needed) \n",
    "# Receive u_2 from computer 2 (only if needed) \n",
    "\n",
    "u_HCB = np.vstack((np.vstack ((u_1,u_C)),u_2))"
   ]
  },
  {
   "attachments": {},
   "cell_type": "markdown",
   "metadata": {},
   "source": [
    "### Compare with Full Solution\n",
    "\n",
    "The following computations are just peformed to compare the results of solving the full system of equations with the results from HCB method "
   ]
  },
  {
   "cell_type": "code",
   "execution_count": 56,
   "metadata": {},
   "outputs": [
    {
     "data": {
      "image/png": "[encoded data removed]",
      "text/plain": [
       "<Figure size 640x480 with 1 Axes>"
      ]
     },
     "metadata": {},
     "output_type": "display_data"
    }
   ],
   "source": [
    "# Assemble full mass & stiffness matrices and load vector \n",
    "\n",
    "M = 0.2 * np.array([[ 1, 0, 0, 0, 0, 0],\n",
    "                    [ 0, 2, 0, 0, 0, 0],\n",
    "                    [ 0, 0, 2, 0, 0, 0],\n",
    "                    [ 0, 0, 0, 2, 0, 0],\n",
    "                    [ 0, 0, 0, 0, 2, 0],\n",
    "                    [ 0, 0, 0, 0, 0, 1]])\n",
    "\n",
    "K = 500 * np.array([[ 1,-1, 0, 0, 0, 0],\n",
    "                    [-1, 2,-1, 0, 0, 0],\n",
    "                    [ 0,-1, 2,-1, 0, 0],\n",
    "                    [ 0, 0,-1, 2,-1, 0],\n",
    "                    [ 0, 0, 0,-1, 2, 0],\n",
    "                    [ 0, 0, 0, 0, 0, 1]])\n",
    "\n",
    "F = 0.2 * np.array([[1],\n",
    "                    [1],\n",
    "                    [1],\n",
    "                    [1],\n",
    "                    [1],\n",
    "                    [0]])\n",
    "\n",
    "# Solve full system of equations \n",
    "\n",
    "u_F = np.linalg.solve( (K - omega * omega * M), F)\n",
    "\n",
    "# Postprocessing \n",
    "\n",
    "indices = np.arange( len(u_F) ) \n",
    "\n",
    "plt.plot( \n",
    "    indices, u_F, \n",
    "    linestyle = '--', \n",
    "    linewidth = 0.5, \n",
    "    marker = '+', \n",
    "    label = \"Full Solution\" \n",
    ") \n",
    "\n",
    "plt.plot( \n",
    "    indices, u_HCB, \n",
    "    linestyle = '--', \n",
    "    linewidth = 0.5, \n",
    "    marker = '', \n",
    "    label = \"HCB Methods\" \n",
    ") \n",
    "\n",
    "plt.xlabel('Node Number') \n",
    "plt.ylabel('DoF Value') \n",
    "\n",
    "plt.grid( True ) \n",
    "plt.legend() \n",
    "plt.show()"
   ]
  }
 ],
 "metadata": {
  "kernelspec": {
   "display_name": "Python 3",
   "language": "python",
   "name": "python3"
  },
  "language_info": {
   "codemirror_mode": {
    "name": "ipython",
    "version": 3
   },
   "file_extension": ".py",
   "mimetype": "text/x-python",
   "name": "python",
   "nbconvert_exporter": "python",
   "pygments_lexer": "ipython3",
   "version": "3.11.3"
  },
  "orig_nbformat": 4
 },
 "nbformat": 4,
 "nbformat_minor": 2
}
